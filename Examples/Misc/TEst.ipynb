{
 "cells": [
  {
   "cell_type": "code",
   "execution_count": 7,
   "metadata": {
    "collapsed": false
   },
   "outputs": [],
   "source": [
    "import numpy as np\n",
    "import scipy as sp\n",
    "import matplotlib.pyplot as plt\n",
    "from scipy.optimize import brentq\n",
    "from tqdm import tqdm\n",
    "%matplotlib notebook"
   ]
  },
  {
   "cell_type": "code",
   "execution_count": 8,
   "metadata": {
    "collapsed": false
   },
   "outputs": [],
   "source": [
    "import math\n",
    "\n",
    "def rootsearch(f,a,b,dx):\n",
    "    x1 = a; f1 = f(a)\n",
    "    x2 = a + dx; f2 = f(x2)\n",
    "    while f1*f2 > 0.0:\n",
    "        if x1 >= b:\n",
    "            return None,None\n",
    "        x1 = x2; f1 = f2\n",
    "        x2 = x1 + dx; f2 = f(x2)\n",
    "    return x1,x2\n",
    "\n",
    "def roots(f, a, b, eps=1e-6):\n",
    "    print ('The roots on the interval [%f, %f] are:' % (a,b))\n",
    "    while 1:\n",
    "        x1,x2 = rootsearch(f,a,b,eps)\n",
    "        if x1 != None:\n",
    "            a = x2\n",
    "            root = bisect(f,x1,x2,1)\n",
    "            if root != None:\n",
    "                pass\n",
    "                print (round(root,-int(math.log(eps, 10))))\n",
    "        else:\n",
    "            print ('\\nDone')\n",
    "            break\n",
    "\n",
    "f=lambda x:x*math.cos(x-4)"
   ]
  },
  {
   "cell_type": "code",
   "execution_count": 12,
   "metadata": {
    "collapsed": true
   },
   "outputs": [],
   "source": [
    "def bisect(f,x1,x2,switch=0,epsilon=1.0e-9):\n",
    "    f1 = f(x1)\n",
    "    if f1 == 0.0:\n",
    "        return x1\n",
    "    f2 = f(x2)\n",
    "    if f2 == 0.0:\n",
    "        return x2\n",
    "    if f1*f2 > 0.0:\n",
    "        print('Root is not bracketed')\n",
    "        return None\n",
    "    n = int(math.ceil(math.log(abs(x2 - x1)/epsilon)/math.log(2.0)))\n",
    "    for i in range(n):\n",
    "        x3 = 0.5*(x1 + x2); f3 = f(x3)\n",
    "        if (switch == 1) and (abs(f3) >abs(f1)) and (abs(f3) > abs(f2)):\n",
    "            return None\n",
    "        if f3 == 0.0:\n",
    "            return x3\n",
    "        if f2*f3 < 0.0:\n",
    "            x1 = x3\n",
    "            f1 = f3\n",
    "        else:\n",
    "            x2 =x3\n",
    "            f2 = f3\n",
    "    return (x1 + x2)/2.0"
   ]
  },
  {
   "cell_type": "code",
   "execution_count": 14,
   "metadata": {
    "collapsed": false
   },
   "outputs": [
    {
     "name": "stdout",
     "output_type": "stream",
     "text": [
      "The roots on the interval [-3.000000, 3.000000] are:\n",
      "-0.71239\n",
      "-0.0\n",
      "2.4292\n",
      "\n",
      "Done\n",
      "The roots on the interval [-3.000000, 3.000000] are:\n",
      "-0.71239\n",
      "-0.0\n",
      "2.4292\n",
      "\n",
      "Done\n",
      "The roots on the interval [-3.000000, 3.000000] are:\n",
      "-0.71239\n",
      "-0.0\n",
      "2.4292\n",
      "\n",
      "Done\n",
      "The roots on the interval [-3.000000, 3.000000] are:\n",
      "-0.71239\n",
      "-0.0\n",
      "2.4292\n",
      "\n",
      "Done\n",
      "1 loop, best of 3: 2.38 s per loop\n"
     ]
    }
   ],
   "source": [
    "%timeit roots(f, -3, 3)"
   ]
  },
  {
   "cell_type": "code",
   "execution_count": 19,
   "metadata": {
    "collapsed": true
   },
   "outputs": [],
   "source": [
    "def bisect(f,x1,x2, e):\n",
    "    e = 0\n",
    "    return brentq(f, x1, x2, rtol=1e-9)"
   ]
  },
  {
   "cell_type": "code",
   "execution_count": 20,
   "metadata": {
    "collapsed": false
   },
   "outputs": [
    {
     "name": "stdout",
     "output_type": "stream",
     "text": [
      "The roots on the interval [-3.000000, 3.000000] are:\n",
      "-0.71239\n",
      "-0.0\n",
      "2.4292\n",
      "\n",
      "Done\n",
      "The roots on the interval [-3.000000, 3.000000] are:\n",
      "-0.71239\n",
      "-0.0\n",
      "2.4292\n",
      "\n",
      "Done\n",
      "The roots on the interval [-3.000000, 3.000000] are:\n",
      "-0.71239\n",
      "-0.0\n",
      "2.4292\n",
      "\n",
      "Done\n",
      "The roots on the interval [-3.000000, 3.000000] are:\n",
      "-0.71239\n",
      "-0.0\n",
      "2.4292\n",
      "\n",
      "Done\n",
      "1 loop, best of 3: 2.39 s per loop\n"
     ]
    }
   ],
   "source": [
    "%timeit roots(f, -3, 3)"
   ]
  },
  {
   "cell_type": "code",
   "execution_count": null,
   "metadata": {
    "collapsed": true
   },
   "outputs": [],
   "source": []
  }
 ],
 "metadata": {
  "anaconda-cloud": {},
  "kernelspec": {
   "display_name": "Python [conda root]",
   "language": "python",
   "name": "conda-root-py"
  },
  "language_info": {
   "codemirror_mode": {
    "name": "ipython",
    "version": 3
   },
   "file_extension": ".py",
   "mimetype": "text/x-python",
   "name": "python",
   "nbconvert_exporter": "python",
   "pygments_lexer": "ipython3",
   "version": "3.5.2"
  }
 },
 "nbformat": 4,
 "nbformat_minor": 1
}
