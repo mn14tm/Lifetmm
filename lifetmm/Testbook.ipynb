{
 "cells": [
  {
   "cell_type": "code",
   "execution_count": 1,
   "metadata": {
    "collapsed": true
   },
   "outputs": [],
   "source": [
    "import matplotlib.pyplot as plt\n",
    "import numpy as np\n",
    "\n",
    "from numpy import sin, cos, pi, arcsin, inf\n",
    "%matplotlib inline"
   ]
  },
  {
   "cell_type": "code",
   "execution_count": 84,
   "metadata": {
    "collapsed": true
   },
   "outputs": [],
   "source": [
    "def thetaCritical(m, n_list):\n",
    "    \"\"\"\n",
    "    :param m: layer containing the emitting atom\n",
    "    :param n_list: list of refractive indices of the layers\n",
    "    :return: Return the angle at which TIRF occurs between the layer containing the atom and the cladding with\n",
    "    the largest refractive index, or pi/2, whichever comes first.\n",
    "    \"\"\"\n",
    "\n",
    "    # Evaluate largest refractive index of claddings\n",
    "    n_clad = max(n_list[0], n_list[-1])\n",
    "\n",
    "    # Using Snell's law evaluate the critical angle or return pi/2 if does not exist\n",
    "    if n_clad/n_list[m] < 1:\n",
    "        return arcsin(n_clad/n_list[m])\n",
    "    else:\n",
    "        return pi/2"
   ]
  },
  {
   "cell_type": "code",
   "execution_count": 2,
   "metadata": {
    "collapsed": true
   },
   "outputs": [],
   "source": [
    "d_list = [inf, 2000, 1000, inf]\n",
    "# list of refractive indices\n",
    "n_list = [1.5, 1.5, 3, 3]\n",
    "x_step=1"
   ]
  },
  {
   "cell_type": "code",
   "execution_count": 3,
   "metadata": {
    "collapsed": true
   },
   "outputs": [],
   "source": [
    "# Set first and last layer thicknesses to zero (from inf) - helps for summing later in program\n",
    "d_list[0] = 0\n",
    "d_list[-1] = 0"
   ]
  },
  {
   "cell_type": "code",
   "execution_count": 5,
   "metadata": {
    "collapsed": true
   },
   "outputs": [],
   "source": [
    "# Start position of each layer\n",
    "d_cumsum = np.cumsum(d_list)\n",
    "# x positions to evaluate E field at\n",
    "x_pos = np.arange((x_step / 2.0), sum(d_list), x_step)\n",
    "\n",
    "# get x_mat (specifies what layer number the corresponding point in x_pos is in):\n",
    "comp1 = np.kron(np.ones((num_layers, 1)), x_pos)\n",
    "comp2 = np.transpose(np.kron(np.ones((len(x_pos), 1)), d_cumsum))\n",
    "\n",
    "x_mat = sum(comp1 > comp2, 0)"
   ]
  },
  {
   "cell_type": "code",
   "execution_count": 43,
   "metadata": {
    "collapsed": false
   },
   "outputs": [
    {
     "data": {
      "text/plain": [
       "array([1, 1, 1, ..., 2, 2, 2])"
      ]
     },
     "execution_count": 43,
     "metadata": {},
     "output_type": "execute_result"
    }
   ],
   "source": [
    "x_mat"
   ]
  },
  {
   "cell_type": "code",
   "execution_count": 44,
   "metadata": {
    "collapsed": true
   },
   "outputs": [],
   "source": [
    "layer = 2"
   ]
  },
  {
   "cell_type": "code",
   "execution_count": 48,
   "metadata": {
    "collapsed": false
   },
   "outputs": [
    {
     "data": {
      "text/plain": [
       "array([[ 1.,  0.],\n",
       "       [ 0.,  1.]])"
      ]
     },
     "execution_count": 48,
     "metadata": {},
     "output_type": "execute_result"
    }
   ],
   "source": [
    "np.eye(2)"
   ]
  },
  {
   "cell_type": "code",
   "execution_count": 63,
   "metadata": {
    "collapsed": false
   },
   "outputs": [],
   "source": [
    "a = [1, 2]*4"
   ]
  },
  {
   "cell_type": "code",
   "execution_count": 65,
   "metadata": {
    "collapsed": false,
    "scrolled": true
   },
   "outputs": [
    {
     "data": {
      "text/plain": [
       "[1, 2, 1, 2, 1, 2, 1, 2, 5, 5]"
      ]
     },
     "execution_count": 65,
     "metadata": {},
     "output_type": "execute_result"
    }
   ],
   "source": [
    "a.append(5)\n",
    "a"
   ]
  },
  {
   "cell_type": "code",
   "execution_count": null,
   "metadata": {
    "collapsed": true
   },
   "outputs": [],
   "source": [
    "import scipy as sp\n",
    "import numpy as np\n",
    "\n",
    "from numpy import pi, exp, sin, inf, sqrt\n",
    "from scipy.interpolate import interp1d\n",
    "\n",
    "\n",
    "def I_mat(nj, nk, n0, pol, th_0):\n",
    "    \"\"\"\n",
    "    Calculates the interference matrix between two layers.\n",
    "    :param nj: First layer refractive index\n",
    "    :param nk: Second layer refractive index\n",
    "    :param n0: Refractive index of incident transparent medium\n",
    "    :param pol: Polarisation of incoming light ('s' or 'p')\n",
    "    :param th_0: Angle of incidence of light (0 for normal, pi/2 for glancing)\n",
    "    :return: I-matrix\n",
    "    \"\"\"\n",
    "    # transfer matrix at an interface\n",
    "    qj = sqrt(nj**2 - n0.real**2 * sin(th_0)**2)\n",
    "    qk = sqrt(nk**2 - n0.real**2 * sin(th_0)**2)\n",
    "\n",
    "    if pol == 's':\n",
    "        r = (qj - qk) / (qj + qk)\n",
    "        t = (2 * qj) / (qj + qk)\n",
    "\n",
    "    elif pol == 'p':\n",
    "        r = (qj * nk**2 - qk * nj**2) / (qj * nk**2 + qk * nj**2)\n",
    "        t = (2 * nj * nk * qj) / (qj * nk**2 + qk * nj**2)\n",
    "\n",
    "    else:\n",
    "        raise ValueError(\"Polarisation must be 's' or 'p' when angle of incidence is\"\n",
    "                         \" not 90$\\degree$s\")\n",
    "\n",
    "    if t == 0:\n",
    "        raise ValueError('Transmission is zero, cannot evaluate I+mat. Check input parameters.')\n",
    "\n",
    "    return (1/t) * np.array([[1, r], [r, 1]], dtype=complex)\n",
    "\n",
    "\n",
    "def L_mat(nj, dj, lam_vac, n0, th_0):\n",
    "    \"\"\"\n",
    "    Calculates the propagation.\n",
    "    :param n: complex dielectric constant\n",
    "    :param d: thickness\n",
    "    :param lam_vac: wavelength\n",
    "    :return:  L-matrix\n",
    "    \"\"\"\n",
    "    qj = sp.sqrt(nj**2 - n0.real**2 * np.sin(th_0)**2)\n",
    "    eps = (2*pi*qj) / lam_vac\n",
    "    return np.array([[exp(-1j*eps*dj), 0], [0, exp(1j*eps*dj)]], dtype=complex)\n",
    "\n",
    "\n",
    "def TransferMatrix(d_list, n_list, lam_vac, th_0, pol, x_step=1, glass=False):\n",
    "    \"\"\"\n",
    "    Evaluate the transfer matrix over the entire structure.\n",
    "    :param pol: polarisation of incoming light ('s' or 'p')\n",
    "    :param n_list: list of refractive indices for each layer (can be complex)\n",
    "    :param d_list: list of thicknesses for each layer\n",
    "    :param th_0: angle of incidence (0 for normal, pi/2 for glancing)\n",
    "    :param lam_vac: vacuum wavelength of light\n",
    "    :param glass: Bool. If there is a thick superstrate present then make true as interference\n",
    "                        in this layer is negligible\n",
    "    :return: Dictionary of all input and output params related to structure\n",
    "    \"\"\"\n",
    "    # convert lists to numpy arrays if they're not already.\n",
    "    n_list = np.array(n_list, dtype=complex)\n",
    "    d_list = np.array(d_list, dtype=float)\n",
    "\n",
    "    # input tests\n",
    "    if ((hasattr(lam_vac, 'size') and lam_vac.size > 1) or (hasattr(th_0, 'size')\n",
    "                                                            and th_0.size > 1)):\n",
    "        raise ValueError('This function is not vectorized; you need to run one '\n",
    "                         'calculation at a time (1 wavelength, 1 angle, etc.)')\n",
    "    if (n_list.ndim != 1) or (d_list.ndim != 1) or (n_list.size != d_list.size):\n",
    "        raise ValueError(\"Problem with n_list or d_list!\")\n",
    "    if (d_list[0] != inf) or (d_list[-1] != inf):\n",
    "        raise ValueError('d_list must start and end with inf!')\n",
    "    if type(x_step) != int:\n",
    "        raise ValueError('x_step must be an integer otherwise. Reduce SI unit'\n",
    "                         'inputs for thicknesses and wavelengths for greater resolution ')\n",
    "    if th_0 >= pi/2 or th_0 <= -pi/2:\n",
    "        raise ValueError('The light is not incident on the structure. Check input theta '\n",
    "                         '(0 <= theta < pi/2')\n",
    "\n",
    "    # Set first and last layer thicknesses to zero (from inf) - helps for summing later in program\n",
    "    d_list[0] = 0\n",
    "    d_list[-1] = 0\n",
    "\n",
    "    num_layers = np.size(d_list)\n",
    "    n = n_list\n",
    "    # Start position of each layer\n",
    "    d_cumsum = np.cumsum(d_list)\n",
    "    # x positions to evaluate E field at\n",
    "    x_pos = np.arange((x_step / 2.0), sum(d_list), x_step)\n",
    "\n",
    "    # get x_mat - specifies what layer the corresponding point in x_pos is in\n",
    "    comp1 = np.kron(np.ones((num_layers, 1)), x_pos)\n",
    "    comp2 = np.transpose(np.kron(np.ones((len(x_pos), 1)), d_cumsum))\n",
    "    x_mat = sum(comp1 > comp2, 0)\n",
    "\n",
    "    # calculate the total system transfer matrix S\n",
    "    # S = I_mat(n[0], n[1], n[0], pol, th_0)\n",
    "    # for layer in range(1, num_layers - 1):\n",
    "    #     mI = I_mat(n[layer], n[layer + 1], n[0], pol, th_0)\n",
    "    #     mL = L_mat(n[layer], d_list[layer], lam_vac, n[0], th_0)\n",
    "    #     S = S @ mI @ mL\n",
    "\n",
    "    S = np.eye(2)\n",
    "    for layer in range(1, num_layers - 2):\n",
    "        mI = I_mat(n[layer-1], n[layer], n[0], pol, th_0)\n",
    "        mL = L_mat(n[layer], d_list[layer], lam_vac, n[0], th_0)\n",
    "        S = S @ mI @ mL\n",
    "    S = S @ I_mat(n[num_layers-2], n[num_layers-1], n[0], pol, th_0)\n",
    "\n",
    "    # JAP Vol 86 p.487 Eq 9 and 10: Power Reflection and Transmission\n",
    "    R = abs(S[1, 0] / S[0, 0]) ** 2\n",
    "    T = abs(1 / S[0, 0]) ** 2  # note this is incorrect https://en.wikipedia.org/wiki/Fresnel_equations\n",
    "\n",
    "    # calculate primed transfer matrices for info on field inside the structure\n",
    "    E = np.zeros(len(x_pos), dtype=complex)  # Initialise E field\n",
    "    E_avg = np.zeros(num_layers)\n",
    "    for layer in range(1, num_layers):\n",
    "        qj = sp.sqrt(n[layer]**2 - n[0].real**2 * np.sin(th_0)**2)\n",
    "        eps = (2 * np.pi * qj) / lam_vac\n",
    "        dj = d_list[layer]\n",
    "        x_indices = np.where(x_mat == layer)\n",
    "        # Calculate depth into layer\n",
    "        x = x_pos[x_indices] - d_cumsum[layer - 1]\n",
    "        # Calculate S_Prime\n",
    "        S_prime = np.eye(2)\n",
    "        for v in range(1, layer-1):\n",
    "            mI = I_mat(n[v - 1], n[v], n[0], pol, th_0)\n",
    "            mL = L_mat(n[v], d_list[v], lam_vac, n[0], th_0)\n",
    "            S_prime = S_prime @ mL @ mI\n",
    "        S_prime = S_prime @ I_mat(n[layer-1], n[layer], n[0], pol, th_0)\n",
    "\n",
    "        # Calculate S_dprime (double prime)\n",
    "        S_dprime = np.eye(2)\n",
    "        for v in range(layer + 1, num_layers - 2):\n",
    "            mI = I_mat(n[v-1], n[v], n[0], pol, th_0)\n",
    "            mL = L_mat(n[v], d_list[v + 1], lam_vac, n[0], th_0)\n",
    "            S_dprime = S_dprime @ mI @ mL\n",
    "        S_dprime = S_dprime @ I_mat(n[num_layers-2], n[num_layers-1], n[0], pol, th_0)\n",
    "\n",
    "        # Electric Field Profile\n",
    "        num = S_dprime[0, 0] * exp(-1j*eps*(dj-x)) + S_dprime[1, 0] * exp(1j*eps*(dj-x))\n",
    "        den = S_prime[0, 0] * S_dprime[0, 0] * exp(-1j*eps*dj) + S_prime[0, 1] * S_dprime[1, 0] * exp(1j*eps*dj)\n",
    "        E[x_indices] = num / den\n",
    "\n",
    "        # Average E field inside the layer\n",
    "        E_avg[layer] = sum(abs(E[x_indices])**2) / (x_step*d_list[layer])\n",
    "\n",
    "    # |E|^2\n",
    "    E_square = abs(E[:]) ** 2\n",
    "\n",
    "    # Absorption coefficient in 1/cm\n",
    "    absorption = np.zeros(num_layers)\n",
    "    for layer in range(1, num_layers):\n",
    "        absorption[layer] = (4 * np.pi * np.imag(n[layer])) / (lam_vac * 1.0e-7)\n",
    "\n",
    "    return {'E_square': E_square, 'absorption': absorption, 'x_pos': x_pos,  # output functions of position\n",
    "            'R': R, 'T': T, 'E': E, 'E_avg': E_avg,  # output overall properties of structure\n",
    "            'd_list': d_list, 'th_0': th_0, 'n_list': n_list, 'lam_vac': lam_vac, 'pol': pol,  # input structure\n",
    "            }\n",
    "\n",
    "\n",
    "class LifetimeTmm:\n",
    "    def __init__(self, d_list, n_list, x_step=1):\n",
    "        \"\"\"\n",
    "        Initilise with the structure of the material to be simulated\n",
    "        \"\"\"\n",
    "        self.d_list = d_list\n",
    "        self.n_list = n_list\n",
    "\n",
    "        # TODO problem if one of the thicknesses in d_list is inf\n",
    "        self.x_pos = np.arange((x_step / 2.0), sum(d_list), x_step)\n",
    "\n",
    "    def __call__(self, lam_vac, th_0, pol, x_step=1):\n",
    "        \"\"\"\n",
    "        Call the simulation for the specific structure with the wavelength(s) to be simulated and (optionally)\n",
    "        the angle of incidence, polarization and resolution in x\n",
    "        \"\"\"\n",
    "        return TransferMatrix(self.d_list, self.n_list, lam_vac, th_0, pol, x_step)\n",
    "\n",
    "\n"
   ]
  }
 ],
 "metadata": {
  "kernelspec": {
   "display_name": "Python 3",
   "language": "python",
   "name": "python3"
  },
  "language_info": {
   "codemirror_mode": {
    "name": "ipython",
    "version": 3
   },
   "file_extension": ".py",
   "mimetype": "text/x-python",
   "name": "python",
   "nbconvert_exporter": "python",
   "pygments_lexer": "ipython3",
   "version": "3.5.1"
  }
 },
 "nbformat": 4,
 "nbformat_minor": 0
}
