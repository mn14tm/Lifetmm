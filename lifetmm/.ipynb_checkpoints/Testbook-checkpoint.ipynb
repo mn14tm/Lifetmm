{
 "cells": [
  {
   "cell_type": "code",
   "execution_count": 80,
   "metadata": {
    "collapsed": false,
    "scrolled": true
   },
   "outputs": [],
   "source": [
    "import numpy as  np\n",
    "from numpy import sin, cos, pi, arcsin, inf"
   ]
  },
  {
   "cell_type": "code",
   "execution_count": 84,
   "metadata": {
    "collapsed": false
   },
   "outputs": [],
   "source": [
    "def thetaCritical(m, n_list):\n",
    "    \"\"\"\n",
    "    :param m: layer containing the emitting atom\n",
    "    :param n_list: list of refractive indices of the layers\n",
    "    :return: Return the angle at which TIRF occurs between the layer containing the atom and the cladding with\n",
    "    the largest refractive index, or pi/2, whichever comes first.\n",
    "    \"\"\"\n",
    "\n",
    "    # Evaluate largest refractive index of claddings\n",
    "    n_clad = max(n_list[0], n_list[-1])\n",
    "\n",
    "    # Using Snell's law evaluate the critical angle or return pi/2 if does not exist\n",
    "    if n_clad/n_list[m] < 1:\n",
    "        return arcsin(n_clad/n_list[m])\n",
    "    else:\n",
    "        return pi/2"
   ]
  },
  {
   "cell_type": "code",
   "execution_count": 85,
   "metadata": {
    "collapsed": true
   },
   "outputs": [],
   "source": [
    "\n",
    "# list of layer thicknesses in nm\n",
    "d_list = [inf, 1000, 1000, inf]\n",
    "# list of refractive indices\n",
    "n_list = [1.5, 1.5, 3, 3]\n",
    "\n",
    "# Prepare the structure for calculation\n",
    "d_list, n_list = prepareStruct(d_list, n_list)\n",
    "\n",
    "m = 3                   # Active layer\n",
    "theta_max = np.linspace(0, thetaCritical(m, n_list), num=100)"
   ]
  },
  {
   "cell_type": "code",
   "execution_count": 99,
   "metadata": {
    "collapsed": false
   },
   "outputs": [],
   "source": [
    "import scipy as sp"
   ]
  },
  {
   "cell_type": "code",
   "execution_count": null,
   "metadata": {
    "collapsed": true
   },
   "outputs": [],
   "source": []
  }
 ],
 "metadata": {
  "kernelspec": {
   "display_name": "Python 3",
   "language": "python",
   "name": "python3"
  },
  "language_info": {
   "codemirror_mode": {
    "name": "ipython",
    "version": 3
   },
   "file_extension": ".py",
   "mimetype": "text/x-python",
   "name": "python",
   "nbconvert_exporter": "python",
   "pygments_lexer": "ipython3",
   "version": "3.5.1"
  }
 },
 "nbformat": 4,
 "nbformat_minor": 0
}
